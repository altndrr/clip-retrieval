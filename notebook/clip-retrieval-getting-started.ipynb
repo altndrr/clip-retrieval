{
 "cells": [
  {
   "cell_type": "markdown",
   "metadata": {
    "id": "uT9FwUjk_lRD"
   },
   "source": [
    "## Install"
   ]
  },
  {
   "cell_type": "code",
   "execution_count": null,
   "metadata": {
    "colab": {
     "base_uri": "https://localhost:8080/"
    },
    "id": "LIJwsAPIjvnX",
    "outputId": "a8ea45f0-0cf7-4b5c-836a-c7c4f5bbed1f"
   },
   "outputs": [],
   "source": [
    "!pip install clip-retrieval img2dataset"
   ]
  },
  {
   "cell_type": "markdown",
   "metadata": {
    "id": "q5-9yk7y_qlW"
   },
   "source": [
    "## Get some image urls"
   ]
  },
  {
   "cell_type": "code",
   "execution_count": null,
   "metadata": {
    "id": "SA89YmKtjvnX"
   },
   "outputs": [],
   "source": [
    "!echo 'https://placekitten.com/200/305' >> myimglist.txt\n",
    "!echo 'https://placekitten.com/200/304' >> myimglist.txt\n",
    "!echo 'https://placekitten.com/200/303' >> myimglist.txt"
   ]
  },
  {
   "cell_type": "markdown",
   "metadata": {
    "id": "N8Tbn2Kl_t1N"
   },
   "source": [
    "## Download the image urls"
   ]
  },
  {
   "cell_type": "code",
   "execution_count": null,
   "metadata": {
    "colab": {
     "base_uri": "https://localhost:8080/"
    },
    "id": "BVZW6noqjvnY",
    "outputId": "484db3d4-249a-4d61-f2d8-5a0f1817a1b4"
   },
   "outputs": [],
   "source": [
    "!img2dataset --url_list=myimglist.txt --output_folder=image_folder --thread_count=64 --image_size=256"
   ]
  },
  {
   "cell_type": "markdown",
   "metadata": {
    "id": "FMW4ncir_1Jt"
   },
   "source": [
    "## Produce embeddings"
   ]
  },
  {
   "cell_type": "code",
   "execution_count": null,
   "metadata": {
    "colab": {
     "base_uri": "https://localhost:8080/"
    },
    "id": "MvNr8NJRjvnZ",
    "outputId": "1484e573-c84d-4593-c7f6-a461b1d516ca"
   },
   "outputs": [],
   "source": [
    "!clip-retrieval inference  --input_dataset image_folder --output_folder embedding_folder"
   ]
  },
  {
   "cell_type": "code",
   "execution_count": null,
   "metadata": {
    "colab": {
     "base_uri": "https://localhost:8080/"
    },
    "id": "aBcl0APqjvnZ",
    "outputId": "14bda9f6-e687-43e7-d7ee-754048cc0c2e"
   },
   "outputs": [],
   "source": [
    "!ls -R embedding_folder"
   ]
  },
  {
   "cell_type": "markdown",
   "metadata": {
    "id": "Am62ARgs_3_e"
   },
   "source": [
    "## Produce knn indices"
   ]
  },
  {
   "cell_type": "code",
   "execution_count": null,
   "metadata": {
    "colab": {
     "base_uri": "https://localhost:8080/"
    },
    "id": "xwzha2vY6OnP",
    "outputId": "63e1d45a-1c13-4f84-8a45-1c7196fb7eb6"
   },
   "outputs": [],
   "source": [
    "!clip-retrieval index --embeddings_folder=embedding_folder --index_folder=index_folder"
   ]
  },
  {
   "cell_type": "markdown",
   "metadata": {
    "id": "gL_X73OY_6TW"
   },
   "source": [
    "## Use the index to get a subset of files"
   ]
  },
  {
   "cell_type": "code",
   "execution_count": null,
   "metadata": {
    "colab": {
     "base_uri": "https://localhost:8080/"
    },
    "id": "COVo6tHQjvnZ",
    "outputId": "57c02131-5f3a-417b-fd53-36ef5fef1061"
   },
   "outputs": [],
   "source": [
    "!clip-retrieval filter --query \"cat\" --output_folder \"cat/\" --indice_folder \"index_folder\""
   ]
  },
  {
   "cell_type": "code",
   "execution_count": null,
   "metadata": {
    "colab": {
     "base_uri": "https://localhost:8080/"
    },
    "id": "wmVuLCKmubsI",
    "outputId": "64547d42-80cc-45a0-d8c6-320f007a77c8"
   },
   "outputs": [],
   "source": [
    "!ls"
   ]
  },
  {
   "cell_type": "code",
   "execution_count": null,
   "metadata": {
    "colab": {
     "base_uri": "https://localhost:8080/"
    },
    "id": "KOdR2ybtjvna",
    "outputId": "219d38d5-f4b1-46b6-b178-c5da880431d0"
   },
   "outputs": [],
   "source": [
    "ls -R cat"
   ]
  },
  {
   "cell_type": "code",
   "execution_count": null,
   "metadata": {
    "colab": {
     "base_uri": "https://localhost:8080/",
     "height": 273
    },
    "id": "GHtA2Jlajvna",
    "outputId": "3448f92e-d3de-48ae-8ba6-807d414d45fb"
   },
   "outputs": [],
   "source": [
    "from IPython.display import Image\n",
    "\n",
    "Image(filename=\"cat/000000000.jpg\")"
   ]
  },
  {
   "cell_type": "markdown",
   "metadata": {
    "id": "tcvl9hog_-Lg"
   },
   "source": [
    "## Run the knn service backend"
   ]
  },
  {
   "cell_type": "code",
   "execution_count": null,
   "metadata": {
    "colab": {
     "base_uri": "https://localhost:8080/"
    },
    "id": "8mKtpVPi6jiZ",
    "outputId": "a7382021-c907-44ba-ecf1-4fd864c63089"
   },
   "outputs": [],
   "source": [
    "%%bash\n",
    "echo '{\"example_index\": \"index_folder\"}' > indices_paths.json\n",
    "npm install -g localtunnel"
   ]
  },
  {
   "cell_type": "code",
   "execution_count": null,
   "metadata": {
    "id": "cUCDh4cq7RgW"
   },
   "outputs": [],
   "source": [
    "# after running the next cell, visit the localtunnel url once then go to\n",
    "# https://rom1504.github.io/clip-retrieval/?back=<your local tunnel url here>"
   ]
  },
  {
   "cell_type": "code",
   "execution_count": null,
   "metadata": {
    "colab": {
     "base_uri": "https://localhost:8080/"
    },
    "id": "q6SaDruy6SOJ",
    "outputId": "a544d2c1-d3d0-4267-a12b-c41c3d599e1e"
   },
   "outputs": [],
   "source": [
    "from threading import Thread\n",
    "\n",
    "\n",
    "def app():\n",
    "    !clip-retrieval back --port 1234 --indices-paths indices_paths.json\n",
    "\n",
    "if __name__ == \"__main__\":\n",
    "    t1 = Thread(target=app)\n",
    "    a = t1.start()\n",
    "    !lt --port 1234"
   ]
  }
 ],
 "metadata": {
  "colab": {
   "name": "clip-retrieval-getting-started.ipynb",
   "provenance": []
  },
  "interpreter": {
   "hash": "843de08df30066b821f0437d83317f7e657c9d58c210bb967a72474dd7dcb832"
  },
  "kernelspec": {
   "display_name": "Python 3.8.10 64-bit ('.env': venv)",
   "name": "python3"
  },
  "language_info": {
   "codemirror_mode": {
    "name": "ipython",
    "version": 3
   },
   "file_extension": ".py",
   "mimetype": "text/x-python",
   "name": "python",
   "nbconvert_exporter": "python",
   "pygments_lexer": "ipython3",
   "version": "3.8.10"
  }
 },
 "nbformat": 4,
 "nbformat_minor": 2
}
