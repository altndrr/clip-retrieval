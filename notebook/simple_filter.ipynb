{
 "cells": [
  {
   "cell_type": "markdown",
   "metadata": {},
   "source": [
    "## Loading\n",
    "\n",
    "Let's load an existing index (that was created with clip index)"
   ]
  },
  {
   "cell_type": "code",
   "execution_count": null,
   "metadata": {},
   "outputs": [],
   "source": [
    "import os\n",
    "\n",
    "os.environ[\"CUDA_VISIBLE_DEVICES\"] = \"\"\n",
    "from clip_retrieval.clip_back import KnnService, load_clip_indices"
   ]
  },
  {
   "cell_type": "code",
   "execution_count": null,
   "metadata": {},
   "outputs": [],
   "source": [
    "columns = [\"url\", \"caption\"]\n",
    "indices_loaded, indices, device, model, preprocess, mclip_model = load_clip_indices(\n",
    "    \"/home/rom1504/indices_paths.json\", True, True, columns, False\n",
    ")\n",
    "knn_service = KnnService(\n",
    "    indices_loaded=indices_loaded,\n",
    "    device=device,\n",
    "    model=model,\n",
    "    preprocess=preprocess,\n",
    "    columns_to_return=columns,\n",
    "    metadata_is_ordered_by_ivf=False,\n",
    "    mclip_model=mclip_model,\n",
    ")"
   ]
  },
  {
   "cell_type": "markdown",
   "metadata": {},
   "source": [
    "## Doing a query\n",
    "\n",
    "Let's extract a subset of the dataset composed mostly of watermarked images"
   ]
  },
  {
   "cell_type": "code",
   "execution_count": null,
   "metadata": {},
   "outputs": [],
   "source": [
    "results = knn_service.query(\n",
    "    text_input=\"watermark\",\n",
    "    modality=\"image\",\n",
    "    indice_name=\"laion_400m\",\n",
    "    num_images=1000,\n",
    "    num_result_ids=1000,\n",
    ")"
   ]
  },
  {
   "cell_type": "code",
   "execution_count": null,
   "metadata": {},
   "outputs": [],
   "source": [
    "import pandas as pd\n",
    "\n",
    "url_captions = pd.DataFrame([(e[\"url\"], e[\"caption\"]) for e in results], columns=[\"url\", \"caption\"])"
   ]
  },
  {
   "cell_type": "code",
   "execution_count": null,
   "metadata": {},
   "outputs": [],
   "source": [
    "url_captions"
   ]
  },
  {
   "cell_type": "code",
   "execution_count": null,
   "metadata": {},
   "outputs": [],
   "source": [
    "url_captions.to_parquet(\"/tmp/mysubset.parquet\")"
   ]
  },
  {
   "cell_type": "markdown",
   "metadata": {},
   "source": [
    "## Downloading\n",
    "\n",
    "Finally let's download this subset"
   ]
  },
  {
   "cell_type": "code",
   "execution_count": null,
   "metadata": {},
   "outputs": [],
   "source": [
    "!img2dataset --input_format=parquet --url_list=/tmp/mysubset.parquet --output_folder=/tmp/myoutput --processes_count=16 --thread_count=64 --output_format=files --url_col=\"url\" --caption_col=\"caption\""
   ]
  },
  {
   "cell_type": "code",
   "execution_count": null,
   "metadata": {},
   "outputs": [],
   "source": [
    "!ls /tmp/myoutput/*"
   ]
  },
  {
   "cell_type": "code",
   "execution_count": null,
   "metadata": {},
   "outputs": [],
   "source": [
    "from IPython.display import Image\n",
    "\n",
    "Image(filename=\"/tmp/myoutput/00000/0000.jpg\")"
   ]
  }
 ],
 "metadata": {
  "interpreter": {
   "hash": "843de08df30066b821f0437d83317f7e657c9d58c210bb967a72474dd7dcb832"
  },
  "kernelspec": {
   "display_name": "Python 3.8.10 64-bit ('.env': venv)",
   "name": "python3"
  },
  "language_info": {
   "codemirror_mode": {
    "name": "ipython",
    "version": 3
   },
   "file_extension": ".py",
   "mimetype": "text/x-python",
   "name": "python",
   "nbconvert_exporter": "python",
   "pygments_lexer": "ipython3",
   "version": "3.8.10"
  }
 },
 "nbformat": 4,
 "nbformat_minor": 2
}
